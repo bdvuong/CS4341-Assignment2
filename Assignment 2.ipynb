{
 "cells": [
  {
   "cell_type": "code",
   "execution_count": 24,
   "metadata": {
    "collapsed": true
   },
   "outputs": [],
   "source": [
    "import pandas as pd\n",
    "import numpy as np\n",
    "import matplotlib as plt\n",
    "from sklearn.linear_model import LinearRegression\n",
    "from sklearn.metrics import mean_squared_error, r2_score"
   ]
  },
  {
   "cell_type": "markdown",
   "source": [
    "Task 1: In this task, we will use different kinds of models to explore the relationship between economic status and life expectancy. For Afghanistan for instance, as the following table shows, we can use older data (from 2000 to 2013) to train models and use the trained models to predict life expectancy of 2014 and 2015. The model input can be GDP number and the model output will be life expectancy for that year."
   ],
   "metadata": {
    "collapsed": false
   }
  },
  {
   "cell_type": "code",
   "execution_count": 118,
   "outputs": [],
   "source": [
    "def linear_reg(country_df):\n",
    "    # get the country name to return\n",
    "    country_name = country_df.iloc[0]['Country']\n",
    "\n",
    "    # Cull data to use only rows that we are concerned about\n",
    "    country_df = country_df[['Year', 'Life expectancy ', 'GDP']]\n",
    "\n",
    "    # Sort the data frame by year and remove the index\n",
    "    country_df = country_df.sort_values(by=['Year'])\n",
    "    country_df.reset_index(inplace=True)\n",
    "    country_df.drop(columns=['index'], inplace=True)\n",
    "\n",
    "    # Split data into a testing and training set\n",
    "    test_df = country_df.loc[country_df['Year'] > 2013]\n",
    "    training_df = country_df.loc[country_df['Year'] < 2014]\n",
    "\n",
    "    # Split into our x and y\n",
    "    x_train = training_df['GDP'].to_numpy().reshape(-1, 1)\n",
    "    y_train = training_df['Life expectancy '].to_numpy()\n",
    "\n",
    "    # Do the Linear Regression\n",
    "    linreg = LinearRegression()\n",
    "    model = linreg.fit(x_train, y_train)\n",
    "\n",
    "    # get the GDP values that we are trying to predict\n",
    "    gdp_vals = test_df['GDP']\n",
    "\n",
    "    # run the gdps from 2014 and 2015 through the model\n",
    "    le_preds = [] # store predictions into a list\n",
    "    for i in gdp_vals:\n",
    "        gdp = np.array([i])\n",
    "        prediction = model.predict(gdp.reshape(1, -1))\n",
    "        print(\"Predicted Response \" + country_name + \":\", prediction)\n",
    "        le_preds.append(prediction)\n",
    "\n",
    "    # get true values of life expectancy from 2014-2015\n",
    "    le_true_vals = test_df['Life expectancy ']\n",
    "\n",
    "    # get the r2 score\n",
    "    train_r2 = model.score(x, y)\n",
    "    test_r2 = mean_squared_error(le_true_vals, le_preds, squared=False)\n",
    "\n",
    "    train_true_le = []\n",
    "    for gdp in x_train:\n",
    "        train_true_le.append(model.predict(gdp.reshape(-1, 1)))\n",
    "\n",
    "    # get the rmse for both train and testing sets\n",
    "    train_rmse = mean_squared_error(y_train, train_true_le, squared=False)\n",
    "    test_rmse = r2_score(le_true_vals, le_preds)\n",
    "\n",
    "    return country_name, test_r2, test_rmse, train_r2, train_rmse"
   ],
   "metadata": {
    "collapsed": false
   }
  },
  {
   "cell_type": "code",
   "execution_count": 119,
   "outputs": [
    {
     "name": "stdout",
     "output_type": "stream",
     "text": [
      "Predicted Response Afghanistan: [59.1529947]\n",
      "Predicted Response Afghanistan: [59.00903924]\n",
      "R2 score for training data:  0.4788209985493368\n",
      "R2 score for testing data:  4.269053041258137\n",
      "RMSE for training data:  1.067259118407288\n",
      "RMSE for testing data:  -1.8027395415725236\n"
     ]
    }
   ],
   "source": [
    "# read CSV\n",
    "df = pd.read_csv('Life Expectancy Data.csv')\n",
    "\n",
    "# get rows only with Afghanistan data\n",
    "afghanistan = df.loc[df['Country'] == 'Afghanistan']\n",
    "\n",
    "country_name, testing_r2, testing_rmse, train_r2, train_rmse = linear_reg(afghanistan)\n",
    "\n",
    "# print r2 score\n",
    "print('R2 score for training data: ', train_r2)\n",
    "print('R2 score for testing data: ', testing_r2)\n",
    "print('RMSE for training data: ', train_rmse)\n",
    "print('RMSE for testing data: ', testing_rmse)"
   ],
   "metadata": {
    "collapsed": false
   }
  },
  {
   "cell_type": "code",
   "execution_count": 65,
   "outputs": [
    {
     "name": "stdout",
     "output_type": "stream",
     "text": [
      "RMSE for training data:  0.9894912620578978\n",
      "R2 for training data:  0.5520071442080716\n",
      "RMSE for testing data:  4.150947401409653\n",
      "R2 for testing data:  -1.6498061252240737\n"
     ]
    }
   ],
   "source": [
    "x = afghanistan['GDP'].to_numpy()\n",
    "# Quadratic Function\n",
    "# Fit a polynomial of degree 2\n",
    "weights = np.polyfit(x, y, 2)\n",
    "model = np.poly1d(weights)\n",
    "predicted = model(x)\n",
    "\n",
    "# Calculate RMSE and R2 for training data\n",
    "print('RMSE for training data: ', np.sqrt(mean_squared_error(y, predicted)))\n",
    "print('R2 for training data: ', r2_score(y, predicted))\n",
    "\n",
    "\n",
    "predicted = model(pred_x)\n",
    "# Calculate the RMSE for testing data\n",
    "print('RMSE for testing data: ', np.sqrt(mean_squared_error(true_vals, predicted)))\n",
    "print('R2 for testing data: ', r2_score(true_vals, predicted))"
   ],
   "metadata": {
    "collapsed": false
   }
  },
  {
   "cell_type": "code",
   "execution_count": 66,
   "outputs": [
    {
     "name": "stdout",
     "output_type": "stream",
     "text": [
      "RMSE for training data:  0.8718359094448804\n",
      "R2 for training data:  0.6522103389963443\n",
      "RMSE for testing data:  3.8221538776098685\n",
      "R2 for testing data:  -1.2466528664556935\n"
     ]
    }
   ],
   "source": [
    "# Cubic Function\n",
    "# Fit a polynomial of degree 3\n",
    "weights = np.polyfit(x, y, 3)\n",
    "model = np.poly1d(weights)\n",
    "predicted = model(x)\n",
    "\n",
    "# Calculate RMSE and R2 for training data\n",
    "print('RMSE for training data: ', np.sqrt(mean_squared_error(y, predicted)))\n",
    "print('R2 for training data: ', r2_score(y, predicted))\n",
    "\n",
    "predicted = model(pred_x)\n",
    "# Calculate the RMSE for testing data\n",
    "print('RMSE for testing data: ', np.sqrt(mean_squared_error(true_vals, predicted)))\n",
    "print('R2 for testing data: ', r2_score(true_vals, predicted))"
   ],
   "metadata": {
    "collapsed": false
   }
  },
  {
   "cell_type": "code",
   "execution_count": 68,
   "outputs": [
    {
     "name": "stdout",
     "output_type": "stream",
     "text": [
      "RMSE for training data:  0.8329835827343556\n",
      "R2 for training data:  0.682517314351077\n",
      "RMSE for testing data:  4.1934730345539855\n",
      "R2 for testing data:  -1.7043777149606156\n"
     ]
    }
   ],
   "source": [
    "# Quartic Function\n",
    "# Fit a polynomial of degree 4\n",
    "weights = np.polyfit(x, y, 4)\n",
    "model = np.poly1d(weights)\n",
    "predicted = model(x)\n",
    "\n",
    "# Calculate RMSE and R2 for training data\n",
    "print('RMSE for training data: ', np.sqrt(mean_squared_error(y, predicted)))\n",
    "print('R2 for training data: ', r2_score(y, predicted))\n",
    "\n",
    "predicted = model(pred_x)\n",
    "# Calculate the RMSE for testing data\n",
    "print('RMSE for testing data: ', np.sqrt(mean_squared_error(true_vals, predicted)))\n",
    "print('R2 for testing data: ', r2_score(true_vals, predicted))"
   ],
   "metadata": {
    "collapsed": false
   }
  },
  {
   "cell_type": "markdown",
   "source": [
    "Task 2: Please repeat this process for all the countries in this dataset. Then, you can average the RMSE and R2 scores for all the developing and developed countries."
   ],
   "metadata": {
    "collapsed": false
   }
  },
  {
   "cell_type": "code",
   "execution_count": 90,
   "outputs": [
    {
     "data": {
      "text/plain": "          Country  Year  Life expectancy           GDP\n112     Australia  2015              82.8  56554.38760\n113     Australia  2014              82.7  62214.69120\n114     Australia  2013              82.5  67792.33860\n115     Australia  2012              82.3  67677.63477\n116     Australia  2011              82.0  62245.12900\n...           ...   ...               ...          ...\n2532  Switzerland  2004              81.0  53255.97631\n2533  Switzerland  2003              85.0   4796.56497\n2534  Switzerland  2002              84.0  41336.72192\n2535  Switzerland  2001              82.0  38538.64447\n2536  Switzerland  2000              79.7  37813.23426\n\n[448 rows x 4 columns]",
      "text/html": "<div>\n<style scoped>\n    .dataframe tbody tr th:only-of-type {\n        vertical-align: middle;\n    }\n\n    .dataframe tbody tr th {\n        vertical-align: top;\n    }\n\n    .dataframe thead th {\n        text-align: right;\n    }\n</style>\n<table border=\"1\" class=\"dataframe\">\n  <thead>\n    <tr style=\"text-align: right;\">\n      <th></th>\n      <th>Country</th>\n      <th>Year</th>\n      <th>Life expectancy</th>\n      <th>GDP</th>\n    </tr>\n  </thead>\n  <tbody>\n    <tr>\n      <th>112</th>\n      <td>Australia</td>\n      <td>2015</td>\n      <td>82.8</td>\n      <td>56554.38760</td>\n    </tr>\n    <tr>\n      <th>113</th>\n      <td>Australia</td>\n      <td>2014</td>\n      <td>82.7</td>\n      <td>62214.69120</td>\n    </tr>\n    <tr>\n      <th>114</th>\n      <td>Australia</td>\n      <td>2013</td>\n      <td>82.5</td>\n      <td>67792.33860</td>\n    </tr>\n    <tr>\n      <th>115</th>\n      <td>Australia</td>\n      <td>2012</td>\n      <td>82.3</td>\n      <td>67677.63477</td>\n    </tr>\n    <tr>\n      <th>116</th>\n      <td>Australia</td>\n      <td>2011</td>\n      <td>82.0</td>\n      <td>62245.12900</td>\n    </tr>\n    <tr>\n      <th>...</th>\n      <td>...</td>\n      <td>...</td>\n      <td>...</td>\n      <td>...</td>\n    </tr>\n    <tr>\n      <th>2532</th>\n      <td>Switzerland</td>\n      <td>2004</td>\n      <td>81.0</td>\n      <td>53255.97631</td>\n    </tr>\n    <tr>\n      <th>2533</th>\n      <td>Switzerland</td>\n      <td>2003</td>\n      <td>85.0</td>\n      <td>4796.56497</td>\n    </tr>\n    <tr>\n      <th>2534</th>\n      <td>Switzerland</td>\n      <td>2002</td>\n      <td>84.0</td>\n      <td>41336.72192</td>\n    </tr>\n    <tr>\n      <th>2535</th>\n      <td>Switzerland</td>\n      <td>2001</td>\n      <td>82.0</td>\n      <td>38538.64447</td>\n    </tr>\n    <tr>\n      <th>2536</th>\n      <td>Switzerland</td>\n      <td>2000</td>\n      <td>79.7</td>\n      <td>37813.23426</td>\n    </tr>\n  </tbody>\n</table>\n<p>448 rows × 4 columns</p>\n</div>"
     },
     "execution_count": 90,
     "metadata": {},
     "output_type": "execute_result"
    }
   ],
   "source": [
    "# read CSV\n",
    "df = pd.read_csv('Life Expectancy Data.csv')\n",
    "\n",
    "# Drop rows that have no data in the columns gdp and life expectancy\n",
    "df.dropna(subset=['GDP', 'Life expectancy '], inplace=True)\n",
    "\n",
    "\n",
    "# We also want to split the data into developed and developing dataframes\n",
    "developed = df[df['Status'] == 'Developed']\n",
    "developing = df[df['Status'] == 'Developing']\n",
    "\n",
    "# limit data to country, gdp, life expectancy\n",
    "developed = developed[['Country', 'Year', 'Life expectancy ', 'GDP']]\n",
    "developing = developing[['Country', 'Year', 'Life expectancy ', 'GDP']]\n",
    "\n",
    "# get each country and put it into a list\n",
    "list_developed = []\n",
    "list_developing = []\n",
    "\n",
    "for country in developed['Country']:\n",
    "    if country not in list_developed:\n",
    "        list_developed.append(country)\n",
    "\n",
    "for country in developing['Country']:\n",
    "    if country not in list_developing:\n",
    "        list_developing.append(country)\n",
    "\n"
   ],
   "metadata": {
    "collapsed": false
   }
  }
 ],
 "metadata": {
  "kernelspec": {
   "display_name": "Python 3",
   "language": "python",
   "name": "python3"
  },
  "language_info": {
   "codemirror_mode": {
    "name": "ipython",
    "version": 2
   },
   "file_extension": ".py",
   "mimetype": "text/x-python",
   "name": "python",
   "nbconvert_exporter": "python",
   "pygments_lexer": "ipython2",
   "version": "2.7.6"
  }
 },
 "nbformat": 4,
 "nbformat_minor": 0
}
