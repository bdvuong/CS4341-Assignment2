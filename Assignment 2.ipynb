{
 "cells": [
  {
   "cell_type": "code",
   "execution_count": 24,
   "metadata": {
    "collapsed": true
   },
   "outputs": [],
   "source": [
    "import pandas as pd\n",
    "import numpy as np\n",
    "import matplotlib as plt\n",
    "from sklearn.linear_model import LinearRegression\n",
    "from sklearn.metrics import mean_squared_error, r2_score"
   ]
  },
  {
   "cell_type": "markdown",
   "source": [
    "Task 1: In this task, we will use different kinds of models to explore the relationship between economic status and life expectancy. For Afghanistan for instance, as the following table shows, we can use older data (from 2000 to 2013) to train models and use the trained models to predict life expectancy of 2014 and 2015. The model input can be GDP number and the model output will be life expectancy for that year."
   ],
   "metadata": {
    "collapsed": false
   }
  },
  {
   "cell_type": "code",
   "execution_count": 45,
   "outputs": [
    {
     "name": "stdout",
     "output_type": "stream",
     "text": [
      "Predicted Response: [59.00903924]\n",
      "Predicted Response: [59.1529947]\n",
      "R2 score for training data:  0.4788209985493368\n",
      "R2 score for testing data:  -1.8027395415725236\n",
      "RMSE for training data:  1.067259118407288\n",
      "RMSE for testing data:  4.269053041258137\n"
     ]
    }
   ],
   "source": [
    "# read CSV\n",
    "df = pd.read_csv('Life Expectancy Data.csv')\n",
    "\n",
    "# get rows only with Afghanistan data\n",
    "afghanistan = df.loc[df['Country'] == 'Afghanistan']\n",
    "\n",
    "# limit data to country, gdp, life expectancy\n",
    "afghanistan = afghanistan[['Year', 'Life expectancy ', 'GDP']]\n",
    "\n",
    "# remove 2014 + 2015 years, can set them to another array to compare later\n",
    "actual = afghanistan.loc[afghanistan['Year'] > 2013]\n",
    "afghanistan = afghanistan.loc[afghanistan['Year'] < 2014]\n",
    "\n",
    "# Sort by year\n",
    "afghanistan = afghanistan.sort_values(by=['Year'])\n",
    "afghanistan.reset_index(inplace=True)\n",
    "afghanistan.drop(columns=['index'], inplace=True)\n",
    "\n",
    "# train a logistic regression model\n",
    "x = afghanistan['GDP'].to_numpy().reshape(-1, 1)\n",
    "y = afghanistan['Life expectancy '].to_numpy()\n",
    "\n",
    "linreg = LinearRegression()\n",
    "model = linreg.fit(x, y)\n",
    "\n",
    "# predict for 2014, 2015 depending on gdp\n",
    "pred_x = actual['GDP']\n",
    "\n",
    "# run the gdp through the model\n",
    "predictions = [] # store predictions into a list\n",
    "for i in pred_x:\n",
    "    gdp = np.array([i])\n",
    "    prediction = model.predict(gdp.reshape(1, -1))\n",
    "    print(\"Predicted Response:\", prediction)\n",
    "    predictions.append(prediction)\n",
    "\n",
    "true_vals = actual['Life expectancy ']\n",
    "\n",
    "# print r2 score\n",
    "print('R2 score for training data: ', model.score(x, y))\n",
    "print('R2 score for testing data: ', r2_score(true_vals, predictions))\n",
    "\n",
    "# calculate rmse\n",
    "rmse_pred = []\n",
    "for rsme_var in x:\n",
    "    rmse_pred.append(model.predict(rsme_var.reshape(-1, 1)))\n",
    "print('RMSE for training data: ', mean_squared_error(y, rmse_pred, squared=False))\n",
    "print('RMSE for testing data: ', mean_squared_error(true_vals, predictions, squared=False))"
   ],
   "metadata": {
    "collapsed": false
   }
  },
  {
   "cell_type": "code",
   "execution_count": 65,
   "outputs": [
    {
     "name": "stdout",
     "output_type": "stream",
     "text": [
      "RMSE for training data:  0.9894912620578978\n",
      "R2 for training data:  0.5520071442080716\n",
      "RMSE for testing data:  4.150947401409653\n",
      "R2 for testing data:  -1.6498061252240737\n"
     ]
    }
   ],
   "source": [
    "x = afghanistan['GDP'].to_numpy()\n",
    "# Quadratic Function\n",
    "# Fit a polynomial of degree 2\n",
    "weights = np.polyfit(x, y, 2)\n",
    "model = np.poly1d(weights)\n",
    "predicted = model(x)\n",
    "\n",
    "# Calculate RMSE and R2 for training data\n",
    "print('RMSE for training data: ', np.sqrt(mean_squared_error(y, predicted)))\n",
    "print('R2 for training data: ', r2_score(y, predicted))\n",
    "\n",
    "\n",
    "predicted = model(pred_x)\n",
    "# Calculate the RMSE for testing data\n",
    "print('RMSE for testing data: ', np.sqrt(mean_squared_error(true_vals, predicted)))\n",
    "print('R2 for testing data: ', r2_score(true_vals, predicted))"
   ],
   "metadata": {
    "collapsed": false
   }
  },
  {
   "cell_type": "code",
   "execution_count": 66,
   "outputs": [
    {
     "name": "stdout",
     "output_type": "stream",
     "text": [
      "RMSE for training data:  0.8718359094448804\n",
      "R2 for training data:  0.6522103389963443\n",
      "RMSE for testing data:  3.8221538776098685\n",
      "R2 for testing data:  -1.2466528664556935\n"
     ]
    }
   ],
   "source": [
    "# Cubic Function\n",
    "# Fit a polynomial of degree 3\n",
    "weights = np.polyfit(x, y, 3)\n",
    "model = np.poly1d(weights)\n",
    "predicted = model(x)\n",
    "\n",
    "# Calculate RMSE and R2 for training data\n",
    "print('RMSE for training data: ', np.sqrt(mean_squared_error(y, predicted)))\n",
    "print('R2 for training data: ', r2_score(y, predicted))\n",
    "\n",
    "predicted = model(pred_x)\n",
    "# Calculate the RMSE for testing data\n",
    "print('RMSE for testing data: ', np.sqrt(mean_squared_error(true_vals, predicted)))\n",
    "print('R2 for testing data: ', r2_score(true_vals, predicted))"
   ],
   "metadata": {
    "collapsed": false
   }
  },
  {
   "cell_type": "code",
   "execution_count": 68,
   "outputs": [
    {
     "name": "stdout",
     "output_type": "stream",
     "text": [
      "RMSE for training data:  0.8329835827343556\n",
      "R2 for training data:  0.682517314351077\n",
      "RMSE for testing data:  4.1934730345539855\n",
      "R2 for testing data:  -1.7043777149606156\n"
     ]
    }
   ],
   "source": [
    "# Quartic Function\n",
    "# Fit a polynomial of degree 4\n",
    "weights = np.polyfit(x, y, 4)\n",
    "model = np.poly1d(weights)\n",
    "predicted = model(x)\n",
    "\n",
    "# Calculate RMSE and R2 for training data\n",
    "print('RMSE for training data: ', np.sqrt(mean_squared_error(y, predicted)))\n",
    "print('R2 for training data: ', r2_score(y, predicted))\n",
    "\n",
    "predicted = model(pred_x)\n",
    "# Calculate the RMSE for testing data\n",
    "print('RMSE for testing data: ', np.sqrt(mean_squared_error(true_vals, predicted)))\n",
    "print('R2 for testing data: ', r2_score(true_vals, predicted))"
   ],
   "metadata": {
    "collapsed": false
   }
  }
 ],
 "metadata": {
  "kernelspec": {
   "display_name": "Python 3",
   "language": "python",
   "name": "python3"
  },
  "language_info": {
   "codemirror_mode": {
    "name": "ipython",
    "version": 2
   },
   "file_extension": ".py",
   "mimetype": "text/x-python",
   "name": "python",
   "nbconvert_exporter": "python",
   "pygments_lexer": "ipython2",
   "version": "2.7.6"
  }
 },
 "nbformat": 4,
 "nbformat_minor": 0
}
