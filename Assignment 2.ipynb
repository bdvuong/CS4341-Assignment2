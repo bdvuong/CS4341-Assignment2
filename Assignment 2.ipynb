{
 "cells": [
  {
   "cell_type": "code",
   "execution_count": 6,
   "metadata": {
    "collapsed": true
   },
   "outputs": [],
   "source": [
    "import pandas as pd\n",
    "import numpy as np\n",
    "import matplotlib as plt\n",
    "from sklearn.linear_model import LinearRegression"
   ]
  },
  {
   "cell_type": "markdown",
   "source": [
    "Task 1: In this task, we will use different kinds of models to explore the relationship between economic status and life expectancy. For Afghanistan for instance, as the following table shows, we can use older data (from 2000 to 2013) to train models and use the trained models to predict life expectancy of 2014 and 2015. The model input can be GDP number and the model output will be life expectancy for that year."
   ],
   "metadata": {
    "collapsed": false
   }
  },
  {
   "cell_type": "code",
   "execution_count": 40,
   "outputs": [
    {
     "name": "stdout",
     "output_type": "stream",
     "text": [
      "Predicted Response: [59.00903924]\n",
      "Predicted Response: [59.1529947]\n"
     ]
    }
   ],
   "source": [
    "# read CSV\n",
    "df = pd.read_csv('Life Expectancy Data.csv')\n",
    "\n",
    "# get rows only with afghanistan data\n",
    "afghanistan = df.loc[df['Country'] == 'Afghanistan']\n",
    "\n",
    "# remove 2014 + 2015 years, can set them to another array since we want to predict life expectancy\n",
    "pred = afghanistan.loc[afghanistan['Year'] > 2013]\n",
    "afghanistan = afghanistan.loc[afghanistan['Year'] < 2014]\n",
    "\n",
    "# limit data to country, gdp, life expectancy\n",
    "afghanistan = afghanistan[['Year', 'Life expectancy ', 'GDP']]\n",
    "\n",
    "# Sort by year\n",
    "afghanistan = afghanistan.sort_values(by=['Year'])\n",
    "afghanistan.reset_index(inplace=True)\n",
    "afghanistan.drop(columns=['index'])\n",
    "\n",
    "# train a logistic regression model\n",
    "x = afghanistan['GDP'].to_numpy().reshape(-1, 1)\n",
    "y = afghanistan['Life expectancy '].to_numpy()\n",
    "\n",
    "linreg = LinearRegression()\n",
    "model = linreg.fit(x, y)\n",
    "\n",
    "# predict for 2014, 2015 depending on gdp\n",
    "pred = pred['GDP']\n",
    "\n",
    "for i in pred:\n",
    "    gdp = np.array([i])\n",
    "    prediction = model.predict(gdp.reshape(1, -1))\n",
    "    print(\"Predicted Response:\", prediction)\n",
    "\n"
   ],
   "metadata": {
    "collapsed": false
   }
  }
 ],
 "metadata": {
  "kernelspec": {
   "display_name": "Python 3",
   "language": "python",
   "name": "python3"
  },
  "language_info": {
   "codemirror_mode": {
    "name": "ipython",
    "version": 2
   },
   "file_extension": ".py",
   "mimetype": "text/x-python",
   "name": "python",
   "nbconvert_exporter": "python",
   "pygments_lexer": "ipython2",
   "version": "2.7.6"
  }
 },
 "nbformat": 4,
 "nbformat_minor": 0
}
